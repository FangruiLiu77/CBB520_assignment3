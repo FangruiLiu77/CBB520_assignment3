{
 "cells": [
  {
   "cell_type": "code",
   "execution_count": 1,
   "metadata": {},
   "outputs": [],
   "source": [
    "seq = \"MAAMVAAMVAALRGPSRRFRPRTRALTRGTRGAASAAGGQQSFDLLVIGGGSGGLACAKEAAQLGKKVAVADYVEPSPRGTKWGLGGTCVNVGCIPKKLMHQAALLGGMIRDAHHYGWEVAQPVQHNWKTMAEAVQNHVKSLNWGHRVQLQDRKVKYFNIKASFVDEHTVRGVDKGGKATLLSAEHIVIATGGRPRYPTQVKGALEYGITSDDIFWLKESPGKTLVVGASYVALECAGFLTGIGLDTTVMMRSIPLRGFDQQMSSLVTEHMESHGTQFLKGCVPSHIKKLPTNQLQVTWEDHASGKEDTGTFDTVLWAIGRVPETRTLNLEKAGISTNPKNQKIIVDAQEATSVPHIYAIGDVAEGRPELTPTAIKAGKLLAQRLFGKSSTLMDYSNVPTTVFTPLEYGCVGLSEEEAVALHGQEHVEVYHAYYKPLEFTVADRDASQCYIKMVCMREPPQLVLGLHFLGPNAGEVTQGFALGIKCGASYAQVMQTVGIHPTCSEEVVKLHISKRSGLEPTVTGCUG\""
   ]
  },
  {
   "cell_type": "code",
   "execution_count": 3,
   "metadata": {},
   "outputs": [],
   "source": [
    "from Bio.Blast import NCBIWWW\n",
    "from Bio import SeqIO\n",
    "from Bio.SeqUtils import ProtParam"
   ]
  },
  {
   "cell_type": "code",
   "execution_count": 4,
   "metadata": {},
   "outputs": [],
   "source": [
    "user_input = seq\n",
    "result_handle = NCBIWWW.qblast(\"blastp\", \"nr\", user_input)"
   ]
  },
  {
   "cell_type": "code",
   "execution_count": 5,
   "metadata": {},
   "outputs": [],
   "source": [
    "database_path = \"database.fasta\"\n",
    "database_sequences = list(SeqIO.parse(database_path, \"fasta\"))"
   ]
  },
  {
   "cell_type": "code",
   "execution_count": 8,
   "metadata": {},
   "outputs": [],
   "source": [
    "from Bio.Blast import NCBIXML\n",
    "blast_records = NCBIXML.parse(result_handle)"
   ]
  },
  {
   "cell_type": "code",
   "execution_count": 10,
   "metadata": {},
   "outputs": [],
   "source": [
    "summary = []\n",
    "\n",
    "for record in blast_records:\n",
    "     for alignment in record.alignments:\n",
    "          for hsp in alignment.hsps:\n",
    "                # Calculate percentage identity and similarity\n",
    "                identity = (hsp.identities / hsp.align_length) * 100\n",
    "                similarity = (hsp.positives / hsp.align_length) * 100\n",
    "\n",
    "                # Calculate isoelectric point for the user input and hit sequence\n",
    "                user_input_pI = ProtParam.ProteinAnalysis(user_input).isoelectric_point()\n",
    "                # hit_sequence = next(seq for seq in database_sequences if seq.id == alignment.hit_id)\n",
    "                # hit_sequence_pI = ProtParam.ProteinAnalysis(str(hit_sequence.seq)).isoelectric_point()\n",
    "\n",
    "                summary.append({\n",
    "                    \"Hit ID\": alignment.hit_id,\n",
    "                    \"Identity\": f\"{identity:.2f}% identical\",\n",
    "                    \"Similarity\": f\"{similarity:.2f}% similar\",\n",
    "                    \"User Input Isoelectric Point\": f\"{user_input_pI:.2f}\",\n",
    "                    #\"Hit Isoelectric Point\": f\"{hit_sequence_pI:.2f}\"\n",
    "                })"
   ]
  },
  {
   "cell_type": "code",
   "execution_count": 11,
   "metadata": {},
   "outputs": [
    {
     "data": {
      "text/plain": [
       "[]"
      ]
     },
     "execution_count": 11,
     "metadata": {},
     "output_type": "execute_result"
    }
   ],
   "source": [
    "summary"
   ]
  },
  {
   "cell_type": "code",
   "execution_count": 14,
   "metadata": {},
   "outputs": [],
   "source": [
    "for record in blast_records:\n",
    "    print(record)"
   ]
  },
  {
   "cell_type": "code",
   "execution_count": 19,
   "metadata": {},
   "outputs": [
    {
     "ename": "NameError",
     "evalue": "name 'run_blast' is not defined",
     "output_type": "error",
     "traceback": [
      "\u001b[0;31m---------------------------------------------------------------------------\u001b[0m",
      "\u001b[0;31mNameError\u001b[0m                                 Traceback (most recent call last)",
      "\u001b[1;32m/Users/lorismac/Downloads/DUKE/2023fall/CBB520/CBB520_assignment3/blast_example.ipynb Cell 9\u001b[0m line \u001b[0;36m5\n\u001b[1;32m      <a href='vscode-notebook-cell:/Users/lorismac/Downloads/DUKE/2023fall/CBB520/CBB520_assignment3/blast_example.ipynb#X12sZmlsZQ%3D%3D?line=2'>3</a>\u001b[0m \u001b[39mwith\u001b[39;00m \u001b[39mopen\u001b[39m(query_seq_file, \u001b[39m\"\u001b[39m\u001b[39mw\u001b[39m\u001b[39m\"\u001b[39m) \u001b[39mas\u001b[39;00m file:\n\u001b[1;32m      <a href='vscode-notebook-cell:/Users/lorismac/Downloads/DUKE/2023fall/CBB520/CBB520_assignment3/blast_example.ipynb#X12sZmlsZQ%3D%3D?line=3'>4</a>\u001b[0m     file\u001b[39m.\u001b[39mwrite(\u001b[39mf\u001b[39m\u001b[39m\"\u001b[39m\u001b[39m>User_Query\u001b[39m\u001b[39m\\n\u001b[39;00m\u001b[39m{\u001b[39;00muser_input\u001b[39m}\u001b[39;00m\u001b[39m\"\u001b[39m)\n\u001b[0;32m----> <a href='vscode-notebook-cell:/Users/lorismac/Downloads/DUKE/2023fall/CBB520/CBB520_assignment3/blast_example.ipynb#X12sZmlsZQ%3D%3D?line=4'>5</a>\u001b[0m blast_result \u001b[39m=\u001b[39m run_blast(query_seq_file, database_path)\n",
      "\u001b[0;31mNameError\u001b[0m: name 'run_blast' is not defined"
     ]
    }
   ],
   "source": [
    "# Create a temporary query sequence file\n",
    "query_seq_file = \"user_query.fasta\"\n",
    "with open(query_seq_file, \"w\") as file:\n",
    "    file.write(f\">User_Query\\n{user_input}\")\n",
    "blast_result = run_blast(query_seq_file, database_path)"
   ]
  },
  {
   "cell_type": "code",
   "execution_count": 3,
   "metadata": {},
   "outputs": [],
   "source": [
    "import pandas as pd"
   ]
  },
  {
   "cell_type": "code",
   "execution_count": 4,
   "metadata": {},
   "outputs": [
    {
     "data": {
      "text/html": [
       "<div>\n",
       "<style scoped>\n",
       "    .dataframe tbody tr th:only-of-type {\n",
       "        vertical-align: middle;\n",
       "    }\n",
       "\n",
       "    .dataframe tbody tr th {\n",
       "        vertical-align: top;\n",
       "    }\n",
       "\n",
       "    .dataframe thead th {\n",
       "        text-align: right;\n",
       "    }\n",
       "</style>\n",
       "<table border=\"1\" class=\"dataframe\">\n",
       "  <thead>\n",
       "    <tr style=\"text-align: right;\">\n",
       "      <th></th>\n",
       "      <th>dsSNP_number</th>\n",
       "      <th>intron</th>\n",
       "      <th>coding_region</th>\n",
       "      <th>utr5</th>\n",
       "      <th>utr3</th>\n",
       "      <th>upstream</th>\n",
       "      <th>downstream</th>\n",
       "      <th>synonymous</th>\n",
       "      <th>dbsnp_link</th>\n",
       "      <th>omim_link</th>\n",
       "      <th>Ref_Allele</th>\n",
       "      <th>Alt_Allele</th>\n",
       "    </tr>\n",
       "  </thead>\n",
       "  <tbody>\n",
       "    <tr>\n",
       "      <th>0</th>\n",
       "      <td>rs10151958</td>\n",
       "      <td>YES</td>\n",
       "      <td>NO</td>\n",
       "      <td>NO</td>\n",
       "      <td>NO</td>\n",
       "      <td>NO</td>\n",
       "      <td>NO</td>\n",
       "      <td>NaN</td>\n",
       "      <td>https://www.ncbi.nlm.nih.gov/snp/rs10151958</td>\n",
       "      <td>NaN</td>\n",
       "      <td>T=0.102730</td>\n",
       "      <td>C=0.897270, G=0.000000</td>\n",
       "    </tr>\n",
       "    <tr>\n",
       "      <th>1</th>\n",
       "      <td>rs1061108</td>\n",
       "      <td>NO</td>\n",
       "      <td>NO</td>\n",
       "      <td>NO</td>\n",
       "      <td>YES</td>\n",
       "      <td>NO</td>\n",
       "      <td>NO</td>\n",
       "      <td>NaN</td>\n",
       "      <td>https://www.ncbi.nlm.nih.gov/snp/rs1061108#fre...</td>\n",
       "      <td>NaN</td>\n",
       "      <td>C=0.09513</td>\n",
       "      <td>G=0.90487</td>\n",
       "    </tr>\n",
       "    <tr>\n",
       "      <th>2</th>\n",
       "      <td>rs1956558</td>\n",
       "      <td>NO</td>\n",
       "      <td>NO</td>\n",
       "      <td>YES</td>\n",
       "      <td>NO</td>\n",
       "      <td>NO</td>\n",
       "      <td>NO</td>\n",
       "      <td>NaN</td>\n",
       "      <td>https://www.ncbi.nlm.nih.gov/snp/rs1956558#fre...</td>\n",
       "      <td>NaN</td>\n",
       "      <td>T=0.09438</td>\n",
       "      <td>C=0.90562</td>\n",
       "    </tr>\n",
       "    <tr>\n",
       "      <th>3</th>\n",
       "      <td>rs33912345</td>\n",
       "      <td>NO</td>\n",
       "      <td>YES</td>\n",
       "      <td>NO</td>\n",
       "      <td>NO</td>\n",
       "      <td>NO</td>\n",
       "      <td>NO</td>\n",
       "      <td>NO</td>\n",
       "      <td>https://www.ncbi.nlm.nih.gov/snp/rs33912345#va...</td>\n",
       "      <td>NaN</td>\n",
       "      <td>C=0.446417</td>\n",
       "      <td>A=0.553583</td>\n",
       "    </tr>\n",
       "    <tr>\n",
       "      <th>4</th>\n",
       "      <td>rs45549246</td>\n",
       "      <td>NO</td>\n",
       "      <td>YES</td>\n",
       "      <td>NO</td>\n",
       "      <td>NO</td>\n",
       "      <td>NO</td>\n",
       "      <td>NO</td>\n",
       "      <td>NO</td>\n",
       "      <td>https://www.ncbi.nlm.nih.gov/snp/rs45549246</td>\n",
       "      <td>NaN</td>\n",
       "      <td>T=0.996235</td>\n",
       "      <td>G=0.003765</td>\n",
       "    </tr>\n",
       "  </tbody>\n",
       "</table>\n",
       "</div>"
      ],
      "text/plain": [
       "  dsSNP_number intron coding_region utr5 utr3 upstream downstream synonymous   \\\n",
       "0   rs10151958    YES            NO   NO   NO       NO         NO         NaN   \n",
       "1    rs1061108     NO            NO   NO  YES       NO         NO         NaN   \n",
       "2    rs1956558     NO            NO  YES   NO       NO         NO         NaN   \n",
       "3  rs33912345      NO           YES   NO   NO       NO         NO          NO   \n",
       "4   rs45549246     NO           YES   NO   NO       NO         NO          NO   \n",
       "\n",
       "                                          dbsnp_link omim_link  Ref_Allele  \\\n",
       "0        https://www.ncbi.nlm.nih.gov/snp/rs10151958       NaN  T=0.102730   \n",
       "1  https://www.ncbi.nlm.nih.gov/snp/rs1061108#fre...       NaN   C=0.09513   \n",
       "2  https://www.ncbi.nlm.nih.gov/snp/rs1956558#fre...       NaN   T=0.09438   \n",
       "3  https://www.ncbi.nlm.nih.gov/snp/rs33912345#va...       NaN  C=0.446417   \n",
       "4        https://www.ncbi.nlm.nih.gov/snp/rs45549246       NaN  T=0.996235   \n",
       "\n",
       "               Alt_Allele  \n",
       "0  C=0.897270, G=0.000000  \n",
       "1               G=0.90487  \n",
       "2               C=0.90562  \n",
       "3              A=0.553583  \n",
       "4              G=0.003765  "
      ]
     },
     "execution_count": 4,
     "metadata": {},
     "output_type": "execute_result"
    }
   ],
   "source": [
    "info = pd.read_csv('info.csv')\n",
    "info.head()"
   ]
  },
  {
   "cell_type": "code",
   "execution_count": 5,
   "metadata": {},
   "outputs": [],
   "source": [
    "info.fillna('N/A', inplace=True)"
   ]
  },
  {
   "cell_type": "code",
   "execution_count": 6,
   "metadata": {},
   "outputs": [
    {
     "data": {
      "text/html": [
       "<div>\n",
       "<style scoped>\n",
       "    .dataframe tbody tr th:only-of-type {\n",
       "        vertical-align: middle;\n",
       "    }\n",
       "\n",
       "    .dataframe tbody tr th {\n",
       "        vertical-align: top;\n",
       "    }\n",
       "\n",
       "    .dataframe thead th {\n",
       "        text-align: right;\n",
       "    }\n",
       "</style>\n",
       "<table border=\"1\" class=\"dataframe\">\n",
       "  <thead>\n",
       "    <tr style=\"text-align: right;\">\n",
       "      <th></th>\n",
       "      <th>dsSNP_number</th>\n",
       "      <th>intron</th>\n",
       "      <th>coding_region</th>\n",
       "      <th>utr5</th>\n",
       "      <th>utr3</th>\n",
       "      <th>upstream</th>\n",
       "      <th>downstream</th>\n",
       "      <th>synonymous</th>\n",
       "      <th>dbsnp_link</th>\n",
       "      <th>omim_link</th>\n",
       "      <th>Ref_Allele</th>\n",
       "      <th>Alt_Allele</th>\n",
       "    </tr>\n",
       "  </thead>\n",
       "  <tbody>\n",
       "    <tr>\n",
       "      <th>0</th>\n",
       "      <td>rs10151958</td>\n",
       "      <td>YES</td>\n",
       "      <td>NO</td>\n",
       "      <td>NO</td>\n",
       "      <td>NO</td>\n",
       "      <td>NO</td>\n",
       "      <td>NO</td>\n",
       "      <td>N/A</td>\n",
       "      <td>https://www.ncbi.nlm.nih.gov/snp/rs10151958</td>\n",
       "      <td>N/A</td>\n",
       "      <td>T=0.102730</td>\n",
       "      <td>C=0.897270, G=0.000000</td>\n",
       "    </tr>\n",
       "    <tr>\n",
       "      <th>1</th>\n",
       "      <td>rs1061108</td>\n",
       "      <td>NO</td>\n",
       "      <td>NO</td>\n",
       "      <td>NO</td>\n",
       "      <td>YES</td>\n",
       "      <td>NO</td>\n",
       "      <td>NO</td>\n",
       "      <td>N/A</td>\n",
       "      <td>https://www.ncbi.nlm.nih.gov/snp/rs1061108#fre...</td>\n",
       "      <td>N/A</td>\n",
       "      <td>C=0.09513</td>\n",
       "      <td>G=0.90487</td>\n",
       "    </tr>\n",
       "    <tr>\n",
       "      <th>2</th>\n",
       "      <td>rs1956558</td>\n",
       "      <td>NO</td>\n",
       "      <td>NO</td>\n",
       "      <td>YES</td>\n",
       "      <td>NO</td>\n",
       "      <td>NO</td>\n",
       "      <td>NO</td>\n",
       "      <td>N/A</td>\n",
       "      <td>https://www.ncbi.nlm.nih.gov/snp/rs1956558#fre...</td>\n",
       "      <td>N/A</td>\n",
       "      <td>T=0.09438</td>\n",
       "      <td>C=0.90562</td>\n",
       "    </tr>\n",
       "    <tr>\n",
       "      <th>3</th>\n",
       "      <td>rs33912345</td>\n",
       "      <td>NO</td>\n",
       "      <td>YES</td>\n",
       "      <td>NO</td>\n",
       "      <td>NO</td>\n",
       "      <td>NO</td>\n",
       "      <td>NO</td>\n",
       "      <td>NO</td>\n",
       "      <td>https://www.ncbi.nlm.nih.gov/snp/rs33912345#va...</td>\n",
       "      <td>N/A</td>\n",
       "      <td>C=0.446417</td>\n",
       "      <td>A=0.553583</td>\n",
       "    </tr>\n",
       "    <tr>\n",
       "      <th>4</th>\n",
       "      <td>rs45549246</td>\n",
       "      <td>NO</td>\n",
       "      <td>YES</td>\n",
       "      <td>NO</td>\n",
       "      <td>NO</td>\n",
       "      <td>NO</td>\n",
       "      <td>NO</td>\n",
       "      <td>NO</td>\n",
       "      <td>https://www.ncbi.nlm.nih.gov/snp/rs45549246</td>\n",
       "      <td>N/A</td>\n",
       "      <td>T=0.996235</td>\n",
       "      <td>G=0.003765</td>\n",
       "    </tr>\n",
       "    <tr>\n",
       "      <th>...</th>\n",
       "      <td>...</td>\n",
       "      <td>...</td>\n",
       "      <td>...</td>\n",
       "      <td>...</td>\n",
       "      <td>...</td>\n",
       "      <td>...</td>\n",
       "      <td>...</td>\n",
       "      <td>...</td>\n",
       "      <td>...</td>\n",
       "      <td>...</td>\n",
       "      <td>...</td>\n",
       "      <td>...</td>\n",
       "    </tr>\n",
       "    <tr>\n",
       "      <th>94</th>\n",
       "      <td>rs138008996</td>\n",
       "      <td>NO</td>\n",
       "      <td>NO</td>\n",
       "      <td>NO</td>\n",
       "      <td>NO</td>\n",
       "      <td>YES</td>\n",
       "      <td>NO</td>\n",
       "      <td>N/A</td>\n",
       "      <td>https://www.ncbi.nlm.nih.gov/snp/rs138008996</td>\n",
       "      <td>N/A</td>\n",
       "      <td>C=0.99730</td>\n",
       "      <td>G=0.00270</td>\n",
       "    </tr>\n",
       "    <tr>\n",
       "      <th>95</th>\n",
       "      <td>rs138361636</td>\n",
       "      <td>NO</td>\n",
       "      <td>NO</td>\n",
       "      <td>NO</td>\n",
       "      <td>NO</td>\n",
       "      <td>YES</td>\n",
       "      <td>NO</td>\n",
       "      <td>N/A</td>\n",
       "      <td>https://www.ncbi.nlm.nih.gov/snp/rs138361636</td>\n",
       "      <td>N/A</td>\n",
       "      <td>C=1.00000</td>\n",
       "      <td>G=0.00000, T=0.00000</td>\n",
       "    </tr>\n",
       "    <tr>\n",
       "      <th>96</th>\n",
       "      <td>rs139669035</td>\n",
       "      <td>YES</td>\n",
       "      <td>NO</td>\n",
       "      <td>NO</td>\n",
       "      <td>NO</td>\n",
       "      <td>NO</td>\n",
       "      <td>NO</td>\n",
       "      <td>N/A</td>\n",
       "      <td>https://www.ncbi.nlm.nih.gov/snp/rs139669035</td>\n",
       "      <td>N/A</td>\n",
       "      <td>T=0.9998</td>\n",
       "      <td>C=0.0002</td>\n",
       "    </tr>\n",
       "    <tr>\n",
       "      <th>97</th>\n",
       "      <td>rs140916124</td>\n",
       "      <td>NO</td>\n",
       "      <td>YES</td>\n",
       "      <td>NO</td>\n",
       "      <td>NO</td>\n",
       "      <td>NO</td>\n",
       "      <td>NO</td>\n",
       "      <td>YES</td>\n",
       "      <td>https://www.ncbi.nlm.nih.gov/snp/rs140916124</td>\n",
       "      <td>N/A</td>\n",
       "      <td>G=0.99997</td>\n",
       "      <td>A=0.00003</td>\n",
       "    </tr>\n",
       "    <tr>\n",
       "      <th>98</th>\n",
       "      <td>rs142958302</td>\n",
       "      <td>NO</td>\n",
       "      <td>YES</td>\n",
       "      <td>NO</td>\n",
       "      <td>NO</td>\n",
       "      <td>NO</td>\n",
       "      <td>NO</td>\n",
       "      <td>NO</td>\n",
       "      <td>https://www.ncbi.nlm.nih.gov/snp/rs142958302</td>\n",
       "      <td>N/A</td>\n",
       "      <td>C=1.00000</td>\n",
       "      <td>A=0.00000, G=0.00000</td>\n",
       "    </tr>\n",
       "  </tbody>\n",
       "</table>\n",
       "<p>99 rows × 12 columns</p>\n",
       "</div>"
      ],
      "text/plain": [
       "   dsSNP_number intron coding_region utr5 utr3 upstream downstream  \\\n",
       "0    rs10151958    YES            NO   NO   NO       NO         NO   \n",
       "1     rs1061108     NO            NO   NO  YES       NO         NO   \n",
       "2     rs1956558     NO            NO  YES   NO       NO         NO   \n",
       "3   rs33912345      NO           YES   NO   NO       NO         NO   \n",
       "4    rs45549246     NO           YES   NO   NO       NO         NO   \n",
       "..          ...    ...           ...  ...  ...      ...        ...   \n",
       "94  rs138008996     NO            NO   NO   NO      YES         NO   \n",
       "95  rs138361636     NO            NO   NO   NO      YES         NO   \n",
       "96  rs139669035    YES            NO   NO   NO       NO         NO   \n",
       "97  rs140916124     NO           YES   NO   NO       NO         NO   \n",
       "98  rs142958302     NO           YES   NO   NO       NO         NO   \n",
       "\n",
       "   synonymous                                          dbsnp_link omim_link  \\\n",
       "0          N/A        https://www.ncbi.nlm.nih.gov/snp/rs10151958       N/A   \n",
       "1          N/A  https://www.ncbi.nlm.nih.gov/snp/rs1061108#fre...       N/A   \n",
       "2          N/A  https://www.ncbi.nlm.nih.gov/snp/rs1956558#fre...       N/A   \n",
       "3           NO  https://www.ncbi.nlm.nih.gov/snp/rs33912345#va...       N/A   \n",
       "4           NO        https://www.ncbi.nlm.nih.gov/snp/rs45549246       N/A   \n",
       "..         ...                                                ...       ...   \n",
       "94         N/A       https://www.ncbi.nlm.nih.gov/snp/rs138008996       N/A   \n",
       "95         N/A       https://www.ncbi.nlm.nih.gov/snp/rs138361636       N/A   \n",
       "96         N/A       https://www.ncbi.nlm.nih.gov/snp/rs139669035       N/A   \n",
       "97         YES       https://www.ncbi.nlm.nih.gov/snp/rs140916124       N/A   \n",
       "98          NO       https://www.ncbi.nlm.nih.gov/snp/rs142958302       N/A   \n",
       "\n",
       "    Ref_Allele              Alt_Allele  \n",
       "0   T=0.102730  C=0.897270, G=0.000000  \n",
       "1    C=0.09513               G=0.90487  \n",
       "2    T=0.09438               C=0.90562  \n",
       "3   C=0.446417              A=0.553583  \n",
       "4   T=0.996235              G=0.003765  \n",
       "..         ...                     ...  \n",
       "94   C=0.99730               G=0.00270  \n",
       "95   C=1.00000    G=0.00000, T=0.00000  \n",
       "96    T=0.9998                C=0.0002  \n",
       "97   G=0.99997               A=0.00003  \n",
       "98   C=1.00000    A=0.00000, G=0.00000  \n",
       "\n",
       "[99 rows x 12 columns]"
      ]
     },
     "execution_count": 6,
     "metadata": {},
     "output_type": "execute_result"
    }
   ],
   "source": [
    "info"
   ]
  },
  {
   "cell_type": "code",
   "execution_count": 7,
   "metadata": {},
   "outputs": [],
   "source": [
    "info.to_csv('/home/fl118/CBB520_assignment3/info.csv', index=False)"
   ]
  },
  {
   "cell_type": "code",
   "execution_count": 9,
   "metadata": {},
   "outputs": [
    {
     "data": {
      "text/plain": [
       "Index(['dsSNP_number', 'intron', 'coding_region', 'utr5', 'utr3', 'upstream',\n",
       "       'downstream', 'synonymous ', 'dbsnp_link', 'omim_link', 'Ref_Allele',\n",
       "       'Alt_Allele'],\n",
       "      dtype='object')"
      ]
     },
     "execution_count": 9,
     "metadata": {},
     "output_type": "execute_result"
    }
   ],
   "source": [
    "info.columns"
   ]
  },
  {
   "cell_type": "code",
   "execution_count": null,
   "metadata": {},
   "outputs": [],
   "source": [
    "def run_tmalign(pdb_file1, pdb_file2):\n",
    "    command = f\"TMalign {pdb_file1} {pdb_file2}\"\n",
    "    process = subprocess.Popen(command, shell=True, stdout=subprocess.PIPE)\n",
    "    output, error = process.communicate()\n",
    "\n",
    "    if error:\n",
    "        print(\"Error in running TMalign: \", error)\n",
    "    return output.decode()\n",
    "And a Flask route example:\n",
    "pythonCopy code\n",
    "@app.route('/run_alignment', methods=['POST'])\n",
    "def run_alignment():\n",
    "    pdb_file1 = request.form.get('pdb1')\n",
    "    pdb_file2 = request.form.get('pdb2')\n",
    "    \n",
    "    alignment_result = run_tmalign(pdb_file1, pdb_file2)\n",
    "    # Process and return the alignment result\n",
    "    return render_template('alignment_result.html', result=alignment_result)\n",
    "Ensure that you handle file paths and subprocess execution securely to prevent security risks."
   ]
  },
  {
   "cell_type": "code",
   "execution_count": 1,
   "metadata": {},
   "outputs": [
    {
     "ename": "NameError",
     "evalue": "name 'TMalign' is not defined",
     "output_type": "error",
     "traceback": [
      "\u001b[0;31m---------------------------------------------------------------------------\u001b[0m",
      "\u001b[0;31mNameError\u001b[0m                                 Traceback (most recent call last)",
      "\u001b[1;32m/home/fl118/CBB520_assignment3/blast_example.ipynb Cell 17\u001b[0m line \u001b[0;36m1\n\u001b[0;32m----> <a href='vscode-notebook-cell://ssh-remote%2Bvcm-36876.vm.duke.edu/home/fl118/CBB520_assignment3/blast_example.ipynb#X22sdnNjb2RlLXJlbW90ZQ%3D%3D?line=0'>1</a>\u001b[0m TMalign \u001b[39m/\u001b[39mhome\u001b[39m/\u001b[39mfl118\u001b[39m/\u001b[39mCBB520_assignment3\u001b[39m/\u001b[39mstatic\u001b[39m/\u001b[39mAF\u001b[39m-\u001b[39mA0A6D2XFP5_chimp\u001b[39m-\u001b[39mF1\u001b[39m-\u001b[39mmodel_v4\u001b[39m.\u001b[39mpdb \u001b[39m/\u001b[39mhome\u001b[39m/\u001b[39mfl118\u001b[39m/\u001b[39mCBB520_assignment3\u001b[39m/\u001b[39mstatic\u001b[39m/\u001b[39mAF\u001b[39m-\u001b[39mA6QQM5_cattle\u001b[39m-\u001b[39mF1\u001b[39m-\u001b[39mmodel_v4\u001b[39m.\u001b[39mpdb\n",
      "\u001b[0;31mNameError\u001b[0m: name 'TMalign' is not defined"
     ]
    }
   ],
   "source": [
    "TMalign /home/fl118/CBB520_assignment3/static/AF-A0A6D2XFP5_chimp-F1-model_v4.pdb /home/fl118/CBB520_assignment3/static/AF-A6QQM5_cattle-F1-model_v4.pdb"
   ]
  },
  {
   "cell_type": "code",
   "execution_count": 10,
   "metadata": {},
   "outputs": [],
   "source": [
    "import subprocess\n",
    "def run_tmalign(pdb_file1, pdb_file2):\n",
    "    command = f\"TMalign {pdb_file1} {pdb_file2}\"\n",
    "    process = subprocess.Popen(command, shell=True, stdout=subprocess.PIPE)\n",
    "    output, error = process.communicate()\n",
    "\n",
    "    if error:\n",
    "        print(\"Error in running TMalign: \", error)\n",
    "    return output.decode()"
   ]
  },
  {
   "cell_type": "code",
   "execution_count": 13,
   "metadata": {},
   "outputs": [],
   "source": [
    "a = run_tmalign('/home/fl118/CBB520_assignment3/static/protein_structure/Human.pdb',\n",
    "            '/home/fl118/CBB520_assignment3/static/protein_structure/Mouse.pdb')"
   ]
  },
  {
   "cell_type": "code",
   "execution_count": 14,
   "metadata": {},
   "outputs": [
    {
     "data": {
      "text/plain": [
       "'\\n **************************************************************************\\n *                        TM-align (Version 20190822)                     *\\n * An algorithm for protein structure alignment and comparison            *\\n * Based on statistics:                                                   *\\n *       0.0 < TM-score < 0.30, random structural similarity              *\\n *       0.5 < TM-score < 1.00, in about the same fold                    *\\n * Reference: Y Zhang and J Skolnick, Nucl Acids Res 33, 2302-9 (2005)    *\\n * Please email your comments and suggestions to: zhng@umich.edu          *\\n **************************************************************************\\n\\nName of Chain_1: /home/fl118/CBB520_assignment3/static/protein_stru\\nName of Chain_2: /home/fl118/CBB520_assignment3/static/protein_stru\\nLength of Chain_1:  246 residues\\nLength of Chain_2:  246 residues\\n\\nAligned length=  234, RMSD=   1.83, Seq_ID=n_identical/n_aligned= 0.936\\nTM-score= 0.90334 (if normalized by length of Chain_1)\\nTM-score= 0.90334 (if normalized by length of Chain_2)\\n(You should use TM-score normalized by length of the reference protein)\\n\\n(\":\" denotes aligned residue pairs of d < 5.0 A, \".\" denotes other aligned residues)\\nMFQLPILNFSPQQVAGVCETLEESGDVERLGRFLWSLPVAPAACEALNKNESVLRARAIVAFHGGNYRELYHILENHKFTKESHAKLQALWLEAHYQEAEKLRGRPLGPVDKYRVRKKFPLPRTIWDGEQKTHCFKERTRHLLREWYLQDPYPNPSKKRELAQATGLTPTQVGNWFKNRRQRDRAAAAKNRLQQQVLSQGSGRALRAEGDGTPEVLG------------VATSPAASLSSKAATSAISITSSDSECDI\\n::::::::::::::::::::::::::::::::::::::::::::::::::::::::::::::::::::::::::::::::::::::::::::::::::::::::::::::::::::::::::::::::::::::::::::::::::::::::::::::::::::::::::::::::::::::::::::::::::::::::..:. ..                      .....::::::::: ::::::::::::::\\nMFQLPILNFSPQQVAGVCETLEESGDVERLGRFLWSLPVAPAACEALNKNESVLRARAIVAFHGGNYRELYHILENHKFTKESHAKLQALWLEAHYQEAEKLRGRPLGPVDKYRVRKKFPLPRTIWDGEQKTHCFKERTRHLLREWYLQDPYPNPSKKRELAQATGLTPTQVGNWFKNRRQRDRAAAAKNRLQQQVLSQGPGRV-LR----------SEGEGTPEVLGVASSPAASLSSKAAT-SAISITSSDSECDI\\n\\n'"
      ]
     },
     "execution_count": 14,
     "metadata": {},
     "output_type": "execute_result"
    }
   ],
   "source": [
    "a\n"
   ]
  },
  {
   "cell_type": "code",
   "execution_count": 10,
   "metadata": {},
   "outputs": [
    {
     "data": {
      "text/plain": [
       "str"
      ]
     },
     "execution_count": 10,
     "metadata": {},
     "output_type": "execute_result"
    }
   ],
   "source": [
    "type(a)"
   ]
  },
  {
   "cell_type": "code",
   "execution_count": null,
   "metadata": {},
   "outputs": [],
   "source": [
    "from Bio.PDB import PDBParser, PDBIO\n",
    "import subprocess\n",
    "\n",
    "def extract_central_region(input_pdb, output_pdb):\n",
    "    # Parse the PDB file\n",
    "    parser = PDBParser(QUIET=True)\n",
    "    structure = parser.get_structure('protein', input_pdb)\n",
    "\n",
    "    # Extract amino acids with confidence levels greater than 50\n",
    "    selected_residues = [\n",
    "        residue for chain in structure.get_chains()\n",
    "        for residue in chain.get_residues() if residue.id[0] == ' ' and residue.id[1] > 50\n",
    "    ]\n",
    "\n",
    "    # Find the first and last residues with confidence levels greater than 50\n",
    "    start_residue = selected_residues[0].get_id()[1]\n",
    "    end_residue = selected_residues[-1].get_id()[1]\n",
    "\n",
    "    # Extract the central region\n",
    "    central_structure = structure[0][start_residue:end_residue]\n",
    "\n",
    "    # Write the new PDB file\n",
    "    io = PDBIO()\n",
    "    io.set_structure(central_structure)\n",
    "    io.save(output_pdb)\n",
    "\n",
    "def align_structures(pdb1, pdb2):\n",
    "    # Use TMalign for structural alignment\n",
    "    cmd = f'tmalign {pdb1} {pdb2}'\n",
    "    result = subprocess.run(cmd, shell=True, capture_output=True, text=True)\n",
    "\n",
    "    # Parse the TMalign output to get the alignment score\n",
    "    lines = result.stdout.split('\\n')\n",
    "    score_line = [line for line in lines if line.startswith('TM-score')][0]\n",
    "    score = float(score_line.split(':')[1].strip())\n",
    "\n",
    "    return score\n",
    "\n",
    "# Example usage:\n",
    "input_pdb = 'path/to/your/protein.pdb'\n",
    "output_pdb = 'path/to/your/central_region.pdb'\n",
    "extract_central_region(input_pdb, output_pdb)\n",
    "\n",
    "# Pairwise alignment with TMalign\n",
    "alignment_score = align_structures('path/to/your/reference.pdb', output_pdb)\n",
    "print(f'TM-align score: {alignment_score}')"
   ]
  },
  {
   "cell_type": "code",
   "execution_count": 1,
   "metadata": {},
   "outputs": [],
   "source": [
    "import os\n",
    "protein_structure_path = '/home/fl118/CBB520_assignment3/static/protein_structure'\n",
    "upload_path = '/home/fl118/CBB520_assignment3/upload'\n",
    "\n",
    "protein_files = os.listdir(protein_structure_path)\n",
    "uploaded_structure = os.listdir(upload_path)"
   ]
  },
  {
   "cell_type": "code",
   "execution_count": 2,
   "metadata": {},
   "outputs": [
    {
     "data": {
      "text/plain": [
       "['Adelie_Penguin.pdb',\n",
       " 'AF-A0A6D2XFP5_chimp-F1-model_v4.pdb',\n",
       " 'AF-A6QQM5_cattle-F1-model_v4.pdb',\n",
       " 'AF-D3ZCC7_rat-F1-model_v4.pdb',\n",
       " 'AF-F6UQT2_horse-F1-model_v4.pdb',\n",
       " 'AF-O73709_zebrafish-F1-model_v4.pdb',\n",
       " 'AF-O93307_chicken-F1-model_v4.pdb',\n",
       " 'AF-O95475_human-F1-model_v4.pdb',\n",
       " 'AF-Q9QZ28_mouse-F1-model_v4.pdb',\n",
       " 'Chinese_Tree_Shrew .pdb']"
      ]
     },
     "execution_count": 2,
     "metadata": {},
     "output_type": "execute_result"
    }
   ],
   "source": [
    "protein_files\n"
   ]
  },
  {
   "cell_type": "code",
   "execution_count": 4,
   "metadata": {},
   "outputs": [
    {
     "data": {
      "text/plain": [
       "['Fishing_Cat.pdb']"
      ]
     },
     "execution_count": 4,
     "metadata": {},
     "output_type": "execute_result"
    }
   ],
   "source": [
    "uploaded_structure"
   ]
  },
  {
   "cell_type": "code",
   "execution_count": null,
   "metadata": {},
   "outputs": [],
   "source": []
  }
 ],
 "metadata": {
  "kernelspec": {
   "display_name": "venv",
   "language": "python",
   "name": "python3"
  },
  "language_info": {
   "codemirror_mode": {
    "name": "ipython",
    "version": 3
   },
   "file_extension": ".py",
   "mimetype": "text/x-python",
   "name": "python",
   "nbconvert_exporter": "python",
   "pygments_lexer": "ipython3",
   "version": "3.8.10"
  }
 },
 "nbformat": 4,
 "nbformat_minor": 2
}
